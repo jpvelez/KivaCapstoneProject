{
 "cells": [
  {
   "cell_type": "markdown",
   "metadata": {},
   "source": [
    "# DATA APPROPRIATION"
   ]
  },
  {
   "cell_type": "markdown",
   "metadata": {},
   "source": [
    "In this notebook, I scrape data from Kiva.org to get additional information on the banks paired up with Kiva, most specifically:\n",
    " - their default rates, or the percentage of ended loans which have failed to repay (measured in dollar volume, not units).\n",
    " - delinquency rates, or the amount of late payments divided by the total outstanding principal balance Kiva has with the Field Partner. \n",
    " - rural percentage \n",
    " - amount of time in months this bank has been paired up with Kiva. \n",
    "  \n",
    "This information is collected to see if lenders care about default rates and delinquency rates when choosing whether to fund someone."
   ]
  },
  {
   "cell_type": "code",
   "execution_count": 1,
   "metadata": {},
   "outputs": [],
   "source": [
    "import requests\n",
    "import bs4\n",
    "from bs4 import BeautifulSoup\n",
    "import pandas as pd\n",
    "import numpy as np"
   ]
  },
  {
   "cell_type": "code",
   "execution_count": 2,
   "metadata": {},
   "outputs": [],
   "source": [
    "URL= 'https://www.kiva.org/about/where-kiva-works?region_filter=All&stage_filter=All&show_closed_partners=show_closed_partners&sort_by=riskRating'"
   ]
  },
  {
   "cell_type": "markdown",
   "metadata": {},
   "source": [
    "First, I have to identify under which part of the page the information is in. I do this with the inspect button, left clicking on any website. Once I have identified the locations, I can extract the data using BeautifulSoup and for loops like the ones below."
   ]
  },
  {
   "cell_type": "code",
   "execution_count": 3,
   "metadata": {},
   "outputs": [],
   "source": [
    "r = requests.get(URL)\n",
    "soup = BeautifulSoup(r.text, 'html.parser')"
   ]
  },
  {
   "cell_type": "code",
   "execution_count": 4,
   "metadata": {},
   "outputs": [
    {
     "data": {
      "text/plain": [
       "<td>2.61%</td>"
      ]
     },
     "execution_count": 4,
     "metadata": {},
     "output_type": "execute_result"
    }
   ],
   "source": [
    "#LOCATE THE DATA\n",
    "soup.find_all('td')[3]"
   ]
  },
  {
   "cell_type": "code",
   "execution_count": 5,
   "metadata": {},
   "outputs": [],
   "source": [
    "banks = [] \n",
    "k = 0\n",
    "for i in soup.find_all('h1',class_='name'):\n",
    "    try: \n",
    "        banks.append(soup.find_all('h1',class_ = 'name')[k].text.strip())\n",
    "    except: \n",
    "        banks.append(np.nan)\n",
    "    k+=1\n",
    "    "
   ]
  },
  {
   "cell_type": "code",
   "execution_count": 6,
   "metadata": {},
   "outputs": [],
   "source": [
    "time = [] \n",
    "k = 0\n",
    "for i in soup.find_all('div',class_='timeOnKiva'):\n",
    "    try: \n",
    "        time.append(soup.find_all('div',class_ = 'timeOnKiva')[k].text.strip('months on Kiva'))\n",
    "    except: \n",
    "        time.append(np.nan)\n",
    "    k+=1\n",
    "    "
   ]
  },
  {
   "cell_type": "code",
   "execution_count": 7,
   "metadata": {},
   "outputs": [],
   "source": [
    "delinquency = [] \n",
    "k = 3\n",
    "for i in soup.find_all('tr')[1:]:\n",
    "    try: \n",
    "        delinquency.append(soup.find_all('td')[k].text.strip('%'))\n",
    "    except: \n",
    "        delinquency.append(np.nan)\n",
    "    k+=5\n",
    "    "
   ]
  },
  {
   "cell_type": "code",
   "execution_count": 8,
   "metadata": {},
   "outputs": [],
   "source": [
    "default_rate = [] \n",
    "k = 4\n",
    "for i in soup.find_all('tr')[1:]:\n",
    "    try: \n",
    "        default_rate.append(soup.find_all('td')[k].text.strip('<td>\\n\\t% (see note)'))\n",
    "    except: \n",
    "        default_rate.append(np.nan)\n",
    "    k+= 5"
   ]
  },
  {
   "cell_type": "code",
   "execution_count": 9,
   "metadata": {},
   "outputs": [
    {
     "name": "stdout",
     "output_type": "stream",
     "text": [
      "545\n",
      "545\n",
      "545\n",
      "545\n"
     ]
    }
   ],
   "source": [
    "print(len(delinquency))\n",
    "print(len(default_rate))\n",
    "print(len(banks))\n",
    "print(len(time))"
   ]
  },
  {
   "cell_type": "code",
   "execution_count": 10,
   "metadata": {},
   "outputs": [
    {
     "data": {
      "text/plain": [
       "'0.08'"
      ]
     },
     "execution_count": 10,
     "metadata": {},
     "output_type": "execute_result"
    }
   ],
   "source": [
    "default_rate[1]"
   ]
  },
  {
   "cell_type": "markdown",
   "metadata": {},
   "source": [
    "Next, I put this information in a dataframe."
   ]
  },
  {
   "cell_type": "code",
   "execution_count": 12,
   "metadata": {},
   "outputs": [],
   "source": [
    "repayments = pd.DataFrame()"
   ]
  },
  {
   "cell_type": "code",
   "execution_count": 13,
   "metadata": {},
   "outputs": [],
   "source": [
    "repayments['Field Partner Name'] = banks\n",
    "repayments['delinquency'] = delinquency\n",
    "repayments['time'] = time\n",
    "repayments['default_rate'] = default_rate"
   ]
  },
  {
   "cell_type": "code",
   "execution_count": 14,
   "metadata": {},
   "outputs": [
    {
     "data": {
      "text/html": [
       "<div>\n",
       "<style scoped>\n",
       "    .dataframe tbody tr th:only-of-type {\n",
       "        vertical-align: middle;\n",
       "    }\n",
       "\n",
       "    .dataframe tbody tr th {\n",
       "        vertical-align: top;\n",
       "    }\n",
       "\n",
       "    .dataframe thead th {\n",
       "        text-align: right;\n",
       "    }\n",
       "</style>\n",
       "<table border=\"1\" class=\"dataframe\">\n",
       "  <thead>\n",
       "    <tr style=\"text-align: right;\">\n",
       "      <th></th>\n",
       "      <th>Field Partner Name</th>\n",
       "      <th>delinquency</th>\n",
       "      <th>time</th>\n",
       "      <th>default_rate</th>\n",
       "    </tr>\n",
       "  </thead>\n",
       "  <tbody>\n",
       "    <tr>\n",
       "      <th>0</th>\n",
       "      <td>CrediCampo</td>\n",
       "      <td>2.61</td>\n",
       "      <td>114</td>\n",
       "      <td>1.50</td>\n",
       "    </tr>\n",
       "    <tr>\n",
       "      <th>1</th>\n",
       "      <td>Credo</td>\n",
       "      <td>6.34</td>\n",
       "      <td>122</td>\n",
       "      <td>0.08</td>\n",
       "    </tr>\n",
       "    <tr>\n",
       "      <th>2</th>\n",
       "      <td>Negros Women for Tomorrow Foundation (NWTF)</td>\n",
       "      <td>3.25</td>\n",
       "      <td>140</td>\n",
       "      <td>0.02</td>\n",
       "    </tr>\n",
       "    <tr>\n",
       "      <th>3</th>\n",
       "      <td>Hattha Bank</td>\n",
       "      <td>0.22</td>\n",
       "      <td>157</td>\n",
       "      <td>0.02</td>\n",
       "    </tr>\n",
       "    <tr>\n",
       "      <th>4</th>\n",
       "      <td>Phillip Bank</td>\n",
       "      <td>0.53</td>\n",
       "      <td>178</td>\n",
       "      <td>0.26</td>\n",
       "    </tr>\n",
       "    <tr>\n",
       "      <th>...</th>\n",
       "      <td>...</td>\n",
       "      <td>...</td>\n",
       "      <td>...</td>\n",
       "      <td>...</td>\n",
       "    </tr>\n",
       "    <tr>\n",
       "      <th>540</th>\n",
       "      <td>Prisma Microfinance</td>\n",
       "      <td>0.00</td>\n",
       "      <td>181</td>\n",
       "      <td>0.00</td>\n",
       "    </tr>\n",
       "    <tr>\n",
       "      <th>541</th>\n",
       "      <td>Senegal Ecovillage Microfinance Fund (SEM)</td>\n",
       "      <td>0.00</td>\n",
       "      <td>181</td>\n",
       "      <td>5.13</td>\n",
       "    </tr>\n",
       "    <tr>\n",
       "      <th>542</th>\n",
       "      <td>Regional Economic Development Center (REDC Bul...</td>\n",
       "      <td>0.00</td>\n",
       "      <td>181</td>\n",
       "      <td>14.46</td>\n",
       "    </tr>\n",
       "    <tr>\n",
       "      <th>543</th>\n",
       "      <td>The Shurush Initiative</td>\n",
       "      <td>0.00</td>\n",
       "      <td>181</td>\n",
       "      <td>57.16</td>\n",
       "    </tr>\n",
       "    <tr>\n",
       "      <th>544</th>\n",
       "      <td>East Africa Beta</td>\n",
       "      <td>0.00</td>\n",
       "      <td>191</td>\n",
       "      <td>9.19</td>\n",
       "    </tr>\n",
       "  </tbody>\n",
       "</table>\n",
       "<p>545 rows × 4 columns</p>\n",
       "</div>"
      ],
      "text/plain": [
       "                                    Field Partner Name delinquency time  \\\n",
       "0                                           CrediCampo        2.61  114   \n",
       "1                                                Credo        6.34  122   \n",
       "2          Negros Women for Tomorrow Foundation (NWTF)        3.25  140   \n",
       "3                                          Hattha Bank        0.22  157   \n",
       "4                                         Phillip Bank        0.53  178   \n",
       "..                                                 ...         ...  ...   \n",
       "540                                Prisma Microfinance        0.00  181   \n",
       "541         Senegal Ecovillage Microfinance Fund (SEM)        0.00  181   \n",
       "542  Regional Economic Development Center (REDC Bul...        0.00  181   \n",
       "543                             The Shurush Initiative        0.00  181   \n",
       "544                                   East Africa Beta        0.00  191   \n",
       "\n",
       "    default_rate  \n",
       "0           1.50  \n",
       "1           0.08  \n",
       "2           0.02  \n",
       "3           0.02  \n",
       "4           0.26  \n",
       "..           ...  \n",
       "540         0.00  \n",
       "541         5.13  \n",
       "542        14.46  \n",
       "543        57.16  \n",
       "544         9.19  \n",
       "\n",
       "[545 rows x 4 columns]"
      ]
     },
     "execution_count": 14,
     "metadata": {},
     "output_type": "execute_result"
    }
   ],
   "source": [
    "repayments"
   ]
  },
  {
   "cell_type": "markdown",
   "metadata": {},
   "source": [
    "Now that I have the banks names, I use a dataset from Kaggle that has the Partner ID's and Bank Names to concatenate Partner ID's. However, this Kaggle dataset is a snapshot in time taken 3 years ago, so it has less Banks and so the resulting dataset only has 259 rows, down from 545."
   ]
  },
  {
   "cell_type": "code",
   "execution_count": 15,
   "metadata": {},
   "outputs": [],
   "source": [
    "loans = pd.read_csv('/Users/nicolas/Downloads/loan_themes_by_region 2.csv')"
   ]
  },
  {
   "cell_type": "code",
   "execution_count": 16,
   "metadata": {},
   "outputs": [
    {
     "data": {
      "text/plain": [
       "123    1207\n",
       "169     992\n",
       "136     952\n",
       "126     673\n",
       "177     671\n",
       "       ... \n",
       "229       1\n",
       "274       1\n",
       "540       1\n",
       "532       1\n",
       "543       1\n",
       "Name: Partner ID, Length: 302, dtype: int64"
      ]
     },
     "execution_count": 16,
     "metadata": {},
     "output_type": "execute_result"
    }
   ],
   "source": [
    "loans['Partner ID'].value_counts()"
   ]
  },
  {
   "cell_type": "code",
   "execution_count": 17,
   "metadata": {},
   "outputs": [],
   "source": [
    "repayments1 = repayments.merge(loans[['Field Partner Name','Partner ID','rural_pct']],on='Field Partner Name')"
   ]
  },
  {
   "cell_type": "code",
   "execution_count": 19,
   "metadata": {},
   "outputs": [],
   "source": [
    "repayements1 = repayments1.drop_duplicates(ignore_index=True)"
   ]
  },
  {
   "cell_type": "code",
   "execution_count": 20,
   "metadata": {},
   "outputs": [
    {
     "data": {
      "text/html": [
       "<div>\n",
       "<style scoped>\n",
       "    .dataframe tbody tr th:only-of-type {\n",
       "        vertical-align: middle;\n",
       "    }\n",
       "\n",
       "    .dataframe tbody tr th {\n",
       "        vertical-align: top;\n",
       "    }\n",
       "\n",
       "    .dataframe thead th {\n",
       "        text-align: right;\n",
       "    }\n",
       "</style>\n",
       "<table border=\"1\" class=\"dataframe\">\n",
       "  <thead>\n",
       "    <tr style=\"text-align: right;\">\n",
       "      <th></th>\n",
       "      <th>Field Partner Name</th>\n",
       "      <th>delinquency</th>\n",
       "      <th>time</th>\n",
       "      <th>default_rate</th>\n",
       "      <th>Partner ID</th>\n",
       "      <th>rural_pct</th>\n",
       "    </tr>\n",
       "  </thead>\n",
       "  <tbody>\n",
       "    <tr>\n",
       "      <th>0</th>\n",
       "      <td>CrediCampo</td>\n",
       "      <td>2.61</td>\n",
       "      <td>114</td>\n",
       "      <td>1.50</td>\n",
       "      <td>199</td>\n",
       "      <td>87.0</td>\n",
       "    </tr>\n",
       "    <tr>\n",
       "      <th>1</th>\n",
       "      <td>Credo</td>\n",
       "      <td>6.34</td>\n",
       "      <td>122</td>\n",
       "      <td>0.08</td>\n",
       "      <td>181</td>\n",
       "      <td>73.0</td>\n",
       "    </tr>\n",
       "    <tr>\n",
       "      <th>2</th>\n",
       "      <td>Negros Women for Tomorrow Foundation (NWTF)</td>\n",
       "      <td>3.25</td>\n",
       "      <td>140</td>\n",
       "      <td>0.02</td>\n",
       "      <td>145</td>\n",
       "      <td>69.0</td>\n",
       "    </tr>\n",
       "    <tr>\n",
       "      <th>3</th>\n",
       "      <td>Kashf Foundation</td>\n",
       "      <td>77.93</td>\n",
       "      <td>104</td>\n",
       "      <td>0.17</td>\n",
       "      <td>245</td>\n",
       "      <td>25.0</td>\n",
       "    </tr>\n",
       "    <tr>\n",
       "      <th>4</th>\n",
       "      <td>One Acre Fund</td>\n",
       "      <td>0.00</td>\n",
       "      <td>114</td>\n",
       "      <td>0.94</td>\n",
       "      <td>202</td>\n",
       "      <td>99.0</td>\n",
       "    </tr>\n",
       "    <tr>\n",
       "      <th>...</th>\n",
       "      <td>...</td>\n",
       "      <td>...</td>\n",
       "      <td>...</td>\n",
       "      <td>...</td>\n",
       "      <td>...</td>\n",
       "      <td>...</td>\n",
       "    </tr>\n",
       "    <tr>\n",
       "      <th>254</th>\n",
       "      <td>Salone Microfinance Trust (SMT)</td>\n",
       "      <td>0.00</td>\n",
       "      <td>166</td>\n",
       "      <td>1.15</td>\n",
       "      <td>57</td>\n",
       "      <td>66.0</td>\n",
       "    </tr>\n",
       "    <tr>\n",
       "      <th>255</th>\n",
       "      <td>Aqroinvest Credit Union</td>\n",
       "      <td>0.00</td>\n",
       "      <td>166</td>\n",
       "      <td>5.23</td>\n",
       "      <td>56</td>\n",
       "      <td>96.0</td>\n",
       "    </tr>\n",
       "    <tr>\n",
       "      <th>256</th>\n",
       "      <td>Credit Mongol</td>\n",
       "      <td>0.00</td>\n",
       "      <td>131</td>\n",
       "      <td>9.97</td>\n",
       "      <td>42</td>\n",
       "      <td>30.0</td>\n",
       "    </tr>\n",
       "    <tr>\n",
       "      <th>257</th>\n",
       "      <td>Komak Credit Union</td>\n",
       "      <td>0.00</td>\n",
       "      <td>171</td>\n",
       "      <td>1.73</td>\n",
       "      <td>30</td>\n",
       "      <td>85.0</td>\n",
       "    </tr>\n",
       "    <tr>\n",
       "      <th>258</th>\n",
       "      <td>Hope Ukraine</td>\n",
       "      <td>0.00</td>\n",
       "      <td>171</td>\n",
       "      <td>0.43</td>\n",
       "      <td>26</td>\n",
       "      <td>NaN</td>\n",
       "    </tr>\n",
       "  </tbody>\n",
       "</table>\n",
       "<p>259 rows × 6 columns</p>\n",
       "</div>"
      ],
      "text/plain": [
       "                              Field Partner Name delinquency time  \\\n",
       "0                                     CrediCampo        2.61  114   \n",
       "1                                          Credo        6.34  122   \n",
       "2    Negros Women for Tomorrow Foundation (NWTF)        3.25  140   \n",
       "3                               Kashf Foundation       77.93  104   \n",
       "4                                  One Acre Fund        0.00  114   \n",
       "..                                           ...         ...  ...   \n",
       "254              Salone Microfinance Trust (SMT)        0.00  166   \n",
       "255                      Aqroinvest Credit Union        0.00  166   \n",
       "256                                Credit Mongol        0.00  131   \n",
       "257                           Komak Credit Union        0.00  171   \n",
       "258                                 Hope Ukraine        0.00  171   \n",
       "\n",
       "    default_rate  Partner ID  rural_pct  \n",
       "0           1.50         199       87.0  \n",
       "1           0.08         181       73.0  \n",
       "2           0.02         145       69.0  \n",
       "3           0.17         245       25.0  \n",
       "4           0.94         202       99.0  \n",
       "..           ...         ...        ...  \n",
       "254         1.15          57       66.0  \n",
       "255         5.23          56       96.0  \n",
       "256         9.97          42       30.0  \n",
       "257         1.73          30       85.0  \n",
       "258         0.43          26        NaN  \n",
       "\n",
       "[259 rows x 6 columns]"
      ]
     },
     "execution_count": 20,
     "metadata": {},
     "output_type": "execute_result"
    }
   ],
   "source": [
    "repayements1"
   ]
  },
  {
   "cell_type": "markdown",
   "metadata": {},
   "source": [
    "Now that we have this final dataset with Partner ID's and the default data, we can concatenate the new rows on the main dataset thanks to common Partner ID column. However, since I have scraped data for 259 banks while the main dataset has 500 banks,the resulting concatenation will produce a subset of the main dataset. "
   ]
  },
  {
   "cell_type": "code",
   "execution_count": 21,
   "metadata": {},
   "outputs": [],
   "source": [
    "loans2 = pd.read_csv('/Users/nicolas/Downloads/loans.csv')"
   ]
  },
  {
   "cell_type": "code",
   "execution_count": 22,
   "metadata": {},
   "outputs": [],
   "source": [
    "lower_columns = []\n",
    "for i in loans2.columns:\n",
    "    lower_columns.append(i.lower())\n",
    "loans2.columns = lower_columns"
   ]
  },
  {
   "cell_type": "code",
   "execution_count": 23,
   "metadata": {},
   "outputs": [],
   "source": [
    "dictionary = ['Field Partner Name','delinquency','time','default_rate','partner_id','rural_pct']\n",
    "repayments1.columns = dictionary"
   ]
  },
  {
   "cell_type": "code",
   "execution_count": 25,
   "metadata": {},
   "outputs": [],
   "source": [
    "#MERGE\n",
    "loans3 = loans2.merge(repayements1[['time','delinquency','default_rate','rural_pct','partner_id']],how='inner',on='partner_id')"
   ]
  },
  {
   "cell_type": "code",
   "execution_count": 26,
   "metadata": {},
   "outputs": [
    {
     "data": {
      "text/plain": [
       "loan_id                                  0\n",
       "loan_name                            25235\n",
       "original_language                    21677\n",
       "description                          21683\n",
       "description_translated              272437\n",
       "funded_amount                            0\n",
       "loan_amount                              0\n",
       "status                                   0\n",
       "image_id                             21677\n",
       "video_id                           1511259\n",
       "activity_name                            0\n",
       "sector_name                              0\n",
       "loan_use                             21686\n",
       "country_code                            31\n",
       "country_name                             0\n",
       "town_name                            97508\n",
       "currency_policy                          0\n",
       "currency_exchange_coverage_rate     243071\n",
       "currency                                 0\n",
       "partner_id                               0\n",
       "posted_time                              0\n",
       "planned_expiration_time             152761\n",
       "disburse_time                            2\n",
       "raised_time                          83996\n",
       "lender_term                             11\n",
       "num_lenders_total                        0\n",
       "num_journal_entries                      0\n",
       "num_bulk_entries                         0\n",
       "tags                                572748\n",
       "borrower_names                       25235\n",
       "borrower_genders                     21677\n",
       "borrower_pictured                    21677\n",
       "repayment_interval                       0\n",
       "distribution_model                       0\n",
       "time                                     0\n",
       "delinquency                              0\n",
       "default_rate                             0\n",
       "rural_pct                            75766\n",
       "dtype: int64"
      ]
     },
     "execution_count": 26,
     "metadata": {},
     "output_type": "execute_result"
    }
   ],
   "source": [
    "loans3.isnull().sum()"
   ]
  },
  {
   "cell_type": "code",
   "execution_count": 36,
   "metadata": {},
   "outputs": [
    {
     "data": {
      "text/plain": [
       "RangeIndex(start=0, stop=2054041, step=1)"
      ]
     },
     "execution_count": 36,
     "metadata": {},
     "output_type": "execute_result"
    }
   ],
   "source": [
    "loans2.index"
   ]
  },
  {
   "cell_type": "code",
   "execution_count": 37,
   "metadata": {},
   "outputs": [
    {
     "data": {
      "text/plain": [
       "Int64Index([      0,       1,       2,       3,       4,       5,       6,\n",
       "                  7,       8,       9,\n",
       "            ...\n",
       "            1511565, 1511566, 1511567, 1511568, 1511569, 1511570, 1511571,\n",
       "            1511572, 1511573, 1511574],\n",
       "           dtype='int64', length=1511575)"
      ]
     },
     "execution_count": 37,
     "metadata": {},
     "output_type": "execute_result"
    }
   ],
   "source": [
    "# SUBSET\n",
    "loans3.index"
   ]
  },
  {
   "cell_type": "code",
   "execution_count": 28,
   "metadata": {},
   "outputs": [],
   "source": [
    "loans3.to_csv('loans2.csv')"
   ]
  }
 ],
 "metadata": {
  "kernelspec": {
   "display_name": "Python 3",
   "language": "python",
   "name": "python3"
  },
  "language_info": {
   "codemirror_mode": {
    "name": "ipython",
    "version": 3
   },
   "file_extension": ".py",
   "mimetype": "text/x-python",
   "name": "python",
   "nbconvert_exporter": "python",
   "pygments_lexer": "ipython3",
   "version": "3.8.5"
  }
 },
 "nbformat": 4,
 "nbformat_minor": 4
}
